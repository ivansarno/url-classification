{
 "cells": [
  {
   "cell_type": "markdown",
   "metadata": {},
   "source": [
    "**Introduction**\n",
    "This project aims to study the classification of requests to a web application server, in particular, classify requests as legitimate or malicious using only the URL. The dataset used is a merge of various smaller similar public datasets and can be found on Github: https://github.com/faizann24/Fwaf-Machine-Learning-driven-Web-Application-Firewall\n"
   ]
  },
  {
   "cell_type": "code",
   "execution_count": 37,
   "metadata": {},
   "outputs": [
    {
     "name": "stdout",
     "output_type": "stream",
     "text": [
      "/103886/\n",
      "\n",
      "/top.php?stuff='uname >q36497765 #\n",
      "\n"
     ]
    },
    {
     "data": {
      "text/html": [
       "<div>\n",
       "<style scoped>\n",
       "    .dataframe tbody tr th:only-of-type {\n",
       "        vertical-align: middle;\n",
       "    }\n",
       "\n",
       "    .dataframe tbody tr th {\n",
       "        vertical-align: top;\n",
       "    }\n",
       "\n",
       "    .dataframe thead th {\n",
       "        text-align: right;\n",
       "    }\n",
       "</style>\n",
       "<table border=\"1\" class=\"dataframe\">\n",
       "  <thead>\n",
       "    <tr style=\"text-align: right;\">\n",
       "      <th></th>\n",
       "      <th>url</th>\n",
       "      <th>scheme</th>\n",
       "      <th>netloc</th>\n",
       "      <th>path</th>\n",
       "      <th>params</th>\n",
       "      <th>query</th>\n",
       "      <th>fragment</th>\n",
       "      <th>label</th>\n",
       "    </tr>\n",
       "  </thead>\n",
       "  <tbody>\n",
       "    <tr>\n",
       "      <th>904877</th>\n",
       "      <td>/hwsubhed/\\n</td>\n",
       "      <td></td>\n",
       "      <td></td>\n",
       "      <td>/hwsubhed/</td>\n",
       "      <td></td>\n",
       "      <td></td>\n",
       "      <td></td>\n",
       "      <td>normal</td>\n",
       "    </tr>\n",
       "    <tr>\n",
       "      <th>1195137</th>\n",
       "      <td>/picture_manager/\\n</td>\n",
       "      <td></td>\n",
       "      <td></td>\n",
       "      <td>/picture_manager/</td>\n",
       "      <td></td>\n",
       "      <td></td>\n",
       "      <td></td>\n",
       "      <td>normal</td>\n",
       "    </tr>\n",
       "    <tr>\n",
       "      <th>67165</th>\n",
       "      <td>/critical-theory/\\n</td>\n",
       "      <td></td>\n",
       "      <td></td>\n",
       "      <td>/critical-theory/</td>\n",
       "      <td></td>\n",
       "      <td></td>\n",
       "      <td></td>\n",
       "      <td>normal</td>\n",
       "    </tr>\n",
       "    <tr>\n",
       "      <th>978124</th>\n",
       "      <td>/direction/index.php?repertoire_config=http://...</td>\n",
       "      <td></td>\n",
       "      <td></td>\n",
       "      <td>/direction/index.php</td>\n",
       "      <td></td>\n",
       "      <td>repertoire_config=http://192.168.202.96:8080/s...</td>\n",
       "      <td></td>\n",
       "      <td>normal</td>\n",
       "    </tr>\n",
       "    <tr>\n",
       "      <th>39653</th>\n",
       "      <td>/eeqwjkr7.aspx\\n</td>\n",
       "      <td></td>\n",
       "      <td></td>\n",
       "      <td>/eeqwjkr7.aspx</td>\n",
       "      <td></td>\n",
       "      <td></td>\n",
       "      <td></td>\n",
       "      <td>normal</td>\n",
       "    </tr>\n",
       "    <tr>\n",
       "      <th>1104041</th>\n",
       "      <td>/planet_leweb3/\\n</td>\n",
       "      <td></td>\n",
       "      <td></td>\n",
       "      <td>/planet_leweb3/</td>\n",
       "      <td></td>\n",
       "      <td></td>\n",
       "      <td></td>\n",
       "      <td>normal</td>\n",
       "    </tr>\n",
       "    <tr>\n",
       "      <th>592089</th>\n",
       "      <td>/javascript/cfdocs.stackdump\\n</td>\n",
       "      <td></td>\n",
       "      <td></td>\n",
       "      <td>/javascript/cfdocs.stackdump</td>\n",
       "      <td></td>\n",
       "      <td></td>\n",
       "      <td></td>\n",
       "      <td>normal</td>\n",
       "    </tr>\n",
       "    <tr>\n",
       "      <th>228072</th>\n",
       "      <td>/javascript/webdav.7z\\n</td>\n",
       "      <td></td>\n",
       "      <td></td>\n",
       "      <td>/javascript/webdav.7z</td>\n",
       "      <td></td>\n",
       "      <td></td>\n",
       "      <td></td>\n",
       "      <td>normal</td>\n",
       "    </tr>\n",
       "    <tr>\n",
       "      <th>408684</th>\n",
       "      <td>/pii.php\\n</td>\n",
       "      <td></td>\n",
       "      <td></td>\n",
       "      <td>/pii.php</td>\n",
       "      <td></td>\n",
       "      <td></td>\n",
       "      <td></td>\n",
       "      <td>normal</td>\n",
       "    </tr>\n",
       "    <tr>\n",
       "      <th>979242</th>\n",
       "      <td>/finepixz5fdth/\\n</td>\n",
       "      <td></td>\n",
       "      <td></td>\n",
       "      <td>/finepixz5fdth/</td>\n",
       "      <td></td>\n",
       "      <td></td>\n",
       "      <td></td>\n",
       "      <td>normal</td>\n",
       "    </tr>\n",
       "  </tbody>\n",
       "</table>\n",
       "</div>"
      ],
      "text/plain": [
       "                                                       url scheme netloc  \\\n",
       "904877                                        /hwsubhed/\\n                 \n",
       "1195137                                /picture_manager/\\n                 \n",
       "67165                                  /critical-theory/\\n                 \n",
       "978124   /direction/index.php?repertoire_config=http://...                 \n",
       "39653                                     /eeqwjkr7.aspx\\n                 \n",
       "1104041                                  /planet_leweb3/\\n                 \n",
       "592089                      /javascript/cfdocs.stackdump\\n                 \n",
       "228072                             /javascript/webdav.7z\\n                 \n",
       "408684                                          /pii.php\\n                 \n",
       "979242                                   /finepixz5fdth/\\n                 \n",
       "\n",
       "                                 path params  \\\n",
       "904877                     /hwsubhed/          \n",
       "1195137             /picture_manager/          \n",
       "67165               /critical-theory/          \n",
       "978124           /direction/index.php          \n",
       "39653                  /eeqwjkr7.aspx          \n",
       "1104041               /planet_leweb3/          \n",
       "592089   /javascript/cfdocs.stackdump          \n",
       "228072          /javascript/webdav.7z          \n",
       "408684                       /pii.php          \n",
       "979242                /finepixz5fdth/          \n",
       "\n",
       "                                                     query fragment   label  \n",
       "904877                                                               normal  \n",
       "1195137                                                              normal  \n",
       "67165                                                                normal  \n",
       "978124   repertoire_config=http://192.168.202.96:8080/s...           normal  \n",
       "39653                                                                normal  \n",
       "1104041                                                              normal  \n",
       "592089                                                               normal  \n",
       "228072                                                               normal  \n",
       "408684                                                               normal  \n",
       "979242                                                               normal  "
      ]
     },
     "execution_count": 37,
     "metadata": {},
     "output_type": "execute_result"
    }
   ],
   "source": [
    "import os\n",
    "import urllib.parse\n",
    "from sklearn.feature_extraction.text import TfidfVectorizer\n",
    "from sklearn.model_selection import train_test_split, cross_val_score, StratifiedKFold\n",
    "import pandas\n",
    "from sklearn import metrics\n",
    "from sklearn.metrics import ConfusionMatrixDisplay as display_cm\n",
    "from sklearn import preprocessing\n",
    "from functools import reduce\n",
    "import matplotlib.pyplot as plt\n",
    "from sklearn.decomposition import PCA\n",
    "from sklearn.linear_model import LogisticRegression, SGDOneClassSVM as OSVM\n",
    "import numpy as np\n",
    "from sklearn.naive_bayes import MultinomialNB\n",
    "from sklearn.svm import LinearSVC as SVM\n",
    "from sklearn.neural_network import MLPClassifier\n",
    "from sklearn.tree import export_text, DecisionTreeClassifier as DTC\n",
    "from scipy.stats import wilcoxon\n",
    "from matplotlib.ticker import PercentFormatter\n",
    "from imblearn.under_sampling import RandomUnderSampler\n",
    "\n",
    "#load the dataset\n",
    "directory = str(os.getcwd())\n",
    "filepath = os.path.join(directory, 'goodqueries.txt')\n",
    "with open(filepath,'r') as f:\n",
    "    goodlines = f.readlines()\n",
    "filepath = os.path.join(directory, 'badqueries.txt')\n",
    "with open(filepath,'r') as f:\n",
    "    badlines = f.readlines()\n",
    "\n",
    "print(goodlines[0])\n",
    "print(badlines[0])\n",
    "\n",
    "\n",
    "lines = goodlines + badlines\n",
    "labels = [ \"normal\" for _ in range(len(goodlines))] + [ \"malicious\" for _ in range(len(badlines))]\n",
    "\n",
    "#remove url encoding and parse the url\n",
    "urlstr = [ str(urllib.parse.unquote(d)) for d in lines]\n",
    "urls = [ urllib.parse.urlparse(d) for d in lines]\n",
    "\n",
    "df = pandas.DataFrame(urls)\n",
    "df.insert(0, 'url', urlstr)\n",
    "df[\"label\"] = labels\n",
    "\n",
    "df.sample(10)\n"
   ]
  },
  {
   "cell_type": "markdown",
   "metadata": {},
   "source": [
    "**Preprocessing**\n",
    "Duplicates are removed from the data frame, then meaningful features are extracted from the URLs. Characteristics of the URL that can be linked to an attack are: anomalous length, anomalous length of the query, and presence of keywords of SQL, Javascript, Bash, and HTML, which can reveal an attempt of injection.\n",
    "The occurrence count of this keyword is taken as a feature. For Javascript, the complete list of keywords is used, plus selected words frequently used during injection attacks. For SQL a selection of more common keywords is used to improve performance. For Shell, a selection of keywords is taken from security checklists.\n"
   ]
  },
  {
   "cell_type": "code",
   "execution_count": 38,
   "metadata": {},
   "outputs": [
    {
     "data": {
      "text/html": [
       "<div>\n",
       "<style scoped>\n",
       "    .dataframe tbody tr th:only-of-type {\n",
       "        vertical-align: middle;\n",
       "    }\n",
       "\n",
       "    .dataframe tbody tr th {\n",
       "        vertical-align: top;\n",
       "    }\n",
       "\n",
       "    .dataframe thead th {\n",
       "        text-align: right;\n",
       "    }\n",
       "</style>\n",
       "<table border=\"1\" class=\"dataframe\">\n",
       "  <thead>\n",
       "    <tr style=\"text-align: right;\">\n",
       "      <th></th>\n",
       "      <th>url</th>\n",
       "      <th>scheme</th>\n",
       "      <th>netloc</th>\n",
       "      <th>path</th>\n",
       "      <th>params</th>\n",
       "      <th>query</th>\n",
       "      <th>fragment</th>\n",
       "      <th>label</th>\n",
       "    </tr>\n",
       "  </thead>\n",
       "  <tbody>\n",
       "    <tr>\n",
       "      <th>count</th>\n",
       "      <td>1310471</td>\n",
       "      <td>1310471</td>\n",
       "      <td>1310471</td>\n",
       "      <td>1310471</td>\n",
       "      <td>1310471</td>\n",
       "      <td>1310471</td>\n",
       "      <td>1310471</td>\n",
       "      <td>1310471</td>\n",
       "    </tr>\n",
       "    <tr>\n",
       "      <th>unique</th>\n",
       "      <td>1310471</td>\n",
       "      <td>114</td>\n",
       "      <td>367</td>\n",
       "      <td>1266700</td>\n",
       "      <td>729</td>\n",
       "      <td>23140</td>\n",
       "      <td>723</td>\n",
       "      <td>2</td>\n",
       "    </tr>\n",
       "    <tr>\n",
       "      <th>top</th>\n",
       "      <td>/103886/\\n</td>\n",
       "      <td></td>\n",
       "      <td></td>\n",
       "      <td>/main.php</td>\n",
       "      <td></td>\n",
       "      <td></td>\n",
       "      <td></td>\n",
       "      <td>normal</td>\n",
       "    </tr>\n",
       "    <tr>\n",
       "      <th>freq</th>\n",
       "      <td>1</td>\n",
       "      <td>1310126</td>\n",
       "      <td>1309999</td>\n",
       "      <td>2533</td>\n",
       "      <td>1309551</td>\n",
       "      <td>1253572</td>\n",
       "      <td>1309640</td>\n",
       "      <td>1265974</td>\n",
       "    </tr>\n",
       "  </tbody>\n",
       "</table>\n",
       "</div>"
      ],
      "text/plain": [
       "               url   scheme   netloc       path   params    query fragment  \\\n",
       "count      1310471  1310471  1310471    1310471  1310471  1310471  1310471   \n",
       "unique     1310471      114      367    1266700      729    23140      723   \n",
       "top     /103886/\\n                    /main.php                              \n",
       "freq             1  1310126  1309999       2533  1309551  1253572  1309640   \n",
       "\n",
       "          label  \n",
       "count   1310471  \n",
       "unique        2  \n",
       "top      normal  \n",
       "freq    1265974  "
      ]
     },
     "execution_count": 38,
     "metadata": {},
     "output_type": "execute_result"
    }
   ],
   "source": [
    "df = df.drop_duplicates(subset=['url'])\n",
    "df.describe()"
   ]
  },
  {
   "cell_type": "code",
   "execution_count": 40,
   "metadata": {},
   "outputs": [
    {
     "data": {
      "text/html": [
       "<div>\n",
       "<style scoped>\n",
       "    .dataframe tbody tr th:only-of-type {\n",
       "        vertical-align: middle;\n",
       "    }\n",
       "\n",
       "    .dataframe tbody tr th {\n",
       "        vertical-align: top;\n",
       "    }\n",
       "\n",
       "    .dataframe thead th {\n",
       "        text-align: right;\n",
       "    }\n",
       "</style>\n",
       "<table border=\"1\" class=\"dataframe\">\n",
       "  <thead>\n",
       "    <tr style=\"text-align: right;\">\n",
       "      <th></th>\n",
       "      <th>url</th>\n",
       "      <th>scheme</th>\n",
       "      <th>netloc</th>\n",
       "      <th>path</th>\n",
       "      <th>params</th>\n",
       "      <th>query</th>\n",
       "      <th>fragment</th>\n",
       "      <th>label</th>\n",
       "      <th>sql</th>\n",
       "      <th>script</th>\n",
       "      <th>shell</th>\n",
       "      <th>query_len</th>\n",
       "      <th>length</th>\n",
       "    </tr>\n",
       "  </thead>\n",
       "  <tbody>\n",
       "    <tr>\n",
       "      <th>540823</th>\n",
       "      <td>/42748-1/\\n</td>\n",
       "      <td></td>\n",
       "      <td></td>\n",
       "      <td>/42748-1/</td>\n",
       "      <td></td>\n",
       "      <td></td>\n",
       "      <td></td>\n",
       "      <td>normal</td>\n",
       "      <td>0</td>\n",
       "      <td>0</td>\n",
       "      <td>0</td>\n",
       "      <td>0</td>\n",
       "      <td>10</td>\n",
       "    </tr>\n",
       "    <tr>\n",
       "      <th>879998</th>\n",
       "      <td>/553223/\\n</td>\n",
       "      <td></td>\n",
       "      <td></td>\n",
       "      <td>/553223/</td>\n",
       "      <td></td>\n",
       "      <td></td>\n",
       "      <td></td>\n",
       "      <td>normal</td>\n",
       "      <td>0</td>\n",
       "      <td>0</td>\n",
       "      <td>0</td>\n",
       "      <td>0</td>\n",
       "      <td>9</td>\n",
       "    </tr>\n",
       "    <tr>\n",
       "      <th>689303</th>\n",
       "      <td>/javascript/req.msg\\n</td>\n",
       "      <td></td>\n",
       "      <td></td>\n",
       "      <td>/javascript/req.msg</td>\n",
       "      <td></td>\n",
       "      <td></td>\n",
       "      <td></td>\n",
       "      <td>normal</td>\n",
       "      <td>2</td>\n",
       "      <td>1</td>\n",
       "      <td>0</td>\n",
       "      <td>0</td>\n",
       "      <td>20</td>\n",
       "    </tr>\n",
       "    <tr>\n",
       "      <th>970665</th>\n",
       "      <td>/society_gifts/\\n</td>\n",
       "      <td></td>\n",
       "      <td></td>\n",
       "      <td>/society_gifts/</td>\n",
       "      <td></td>\n",
       "      <td></td>\n",
       "      <td></td>\n",
       "      <td>normal</td>\n",
       "      <td>0</td>\n",
       "      <td>1</td>\n",
       "      <td>0</td>\n",
       "      <td>0</td>\n",
       "      <td>16</td>\n",
       "    </tr>\n",
       "    <tr>\n",
       "      <th>1215702</th>\n",
       "      <td>/0321168925/\\n</td>\n",
       "      <td></td>\n",
       "      <td></td>\n",
       "      <td>/0321168925/</td>\n",
       "      <td></td>\n",
       "      <td></td>\n",
       "      <td></td>\n",
       "      <td>normal</td>\n",
       "      <td>0</td>\n",
       "      <td>0</td>\n",
       "      <td>0</td>\n",
       "      <td>0</td>\n",
       "      <td>13</td>\n",
       "    </tr>\n",
       "    <tr>\n",
       "      <th>325419</th>\n",
       "      <td>/mja0ntcz/\\n</td>\n",
       "      <td></td>\n",
       "      <td></td>\n",
       "      <td>/mja0ntcz/</td>\n",
       "      <td></td>\n",
       "      <td></td>\n",
       "      <td></td>\n",
       "      <td>normal</td>\n",
       "      <td>0</td>\n",
       "      <td>0</td>\n",
       "      <td>0</td>\n",
       "      <td>0</td>\n",
       "      <td>11</td>\n",
       "    </tr>\n",
       "    <tr>\n",
       "      <th>29434</th>\n",
       "      <td>/absolutlystoryofagir/\\n</td>\n",
       "      <td></td>\n",
       "      <td></td>\n",
       "      <td>/absolutlystoryofagir/</td>\n",
       "      <td></td>\n",
       "      <td></td>\n",
       "      <td></td>\n",
       "      <td>normal</td>\n",
       "      <td>1</td>\n",
       "      <td>0</td>\n",
       "      <td>0</td>\n",
       "      <td>0</td>\n",
       "      <td>23</td>\n",
       "    </tr>\n",
       "    <tr>\n",
       "      <th>482000</th>\n",
       "      <td>/24military/\\n</td>\n",
       "      <td></td>\n",
       "      <td></td>\n",
       "      <td>/24military/</td>\n",
       "      <td></td>\n",
       "      <td></td>\n",
       "      <td></td>\n",
       "      <td>normal</td>\n",
       "      <td>0</td>\n",
       "      <td>0</td>\n",
       "      <td>0</td>\n",
       "      <td>0</td>\n",
       "      <td>13</td>\n",
       "    </tr>\n",
       "    <tr>\n",
       "      <th>879295</th>\n",
       "      <td>/580742/\\n</td>\n",
       "      <td></td>\n",
       "      <td></td>\n",
       "      <td>/580742/</td>\n",
       "      <td></td>\n",
       "      <td></td>\n",
       "      <td></td>\n",
       "      <td>normal</td>\n",
       "      <td>0</td>\n",
       "      <td>0</td>\n",
       "      <td>0</td>\n",
       "      <td>0</td>\n",
       "      <td>9</td>\n",
       "    </tr>\n",
       "    <tr>\n",
       "      <th>265568</th>\n",
       "      <td>/pyxidessprint/\\n</td>\n",
       "      <td></td>\n",
       "      <td></td>\n",
       "      <td>/pyxidessprint/</td>\n",
       "      <td></td>\n",
       "      <td></td>\n",
       "      <td></td>\n",
       "      <td>normal</td>\n",
       "      <td>0</td>\n",
       "      <td>2</td>\n",
       "      <td>0</td>\n",
       "      <td>0</td>\n",
       "      <td>16</td>\n",
       "    </tr>\n",
       "  </tbody>\n",
       "</table>\n",
       "</div>"
      ],
      "text/plain": [
       "                              url scheme netloc                    path  \\\n",
       "540823                /42748-1/\\n                             /42748-1/   \n",
       "879998                 /553223/\\n                              /553223/   \n",
       "689303      /javascript/req.msg\\n                   /javascript/req.msg   \n",
       "970665          /society_gifts/\\n                       /society_gifts/   \n",
       "1215702            /0321168925/\\n                          /0321168925/   \n",
       "325419               /mja0ntcz/\\n                            /mja0ntcz/   \n",
       "29434    /absolutlystoryofagir/\\n                /absolutlystoryofagir/   \n",
       "482000             /24military/\\n                          /24military/   \n",
       "879295                 /580742/\\n                              /580742/   \n",
       "265568          /pyxidessprint/\\n                       /pyxidessprint/   \n",
       "\n",
       "        params query fragment   label  sql  script  shell  query_len  length  \n",
       "540823                         normal    0       0      0          0      10  \n",
       "879998                         normal    0       0      0          0       9  \n",
       "689303                         normal    2       1      0          0      20  \n",
       "970665                         normal    0       1      0          0      16  \n",
       "1215702                        normal    0       0      0          0      13  \n",
       "325419                         normal    0       0      0          0      11  \n",
       "29434                          normal    1       0      0          0      23  \n",
       "482000                         normal    0       0      0          0      13  \n",
       "879295                         normal    0       0      0          0       9  \n",
       "265568                         normal    0       2      0          0      16  "
      ]
     },
     "execution_count": 40,
     "metadata": {},
     "output_type": "execute_result"
    }
   ],
   "source": [
    "#Counts thee occurrencies of strings from a list in a string\n",
    "def count_occ(str_el, str_list):\n",
    "    return reduce(lambda a, b: a + str_el.count(b), str_list, 0)\n",
    "    \n",
    "\n",
    "filepath = os.path.join(directory, 'SqlKeywordsRed.txt')\n",
    "with open(filepath,'r') as f:\n",
    "    sql_list = f.readlines()\n",
    "sql_list = [l.lower() for l in sql_list] \n",
    "sql_list = [l.strip() for l in sql_list]\n",
    "\n",
    "filepath = os.path.join(directory, 'JavascriptKeywords.txt')\n",
    "with open(filepath,'r') as f:\n",
    "    script_list = f.readlines()\n",
    "script_list = [l.lower() for l in script_list]\n",
    "script_list = [l.strip() for l in script_list]\n",
    "script_list += [\"script\", \"meta\", \"doctype\", \"entity\", '>', '<', '<?php', '?>', 'shell_exec', 'link', 'img', 'href', 'src', '<tt>', '<map']\n",
    "script_list = set(script_list)\n",
    "script_list.discard(\"\")\n",
    "script_list = list(script_list)\n",
    "\n",
    "shell_list = [')', '>', '/dev', '/bin', '/usr', 'bin/sh', '/local', '@', '|', '+', '#', '/etc', '/passwd', ']', '~', '<', '[', '{', '}', 'zip', 'nc', ';', '(', '*', '^', 'cp', '$', '!']\n",
    "\n",
    " \n",
    "\n",
    "\n",
    "url_lower = df[\"url\"].map(lambda x: x.lower()) #the urls are lowercased for easier comparision\n",
    "df[\"sql\"] = url_lower.map(lambda x: count_occ(x, sql_list))\n",
    "df[\"script\"] = url_lower.map(lambda x: count_occ(x, script_list))\n",
    "df[\"shell\"] = url_lower.map(lambda x: count_occ(x, shell_list))\n",
    "df[\"query_len\"] = df[\"query\"].map(len)\n",
    "df[\"query_len\"] += df[\"params\"].map(len) #the length of the parameter is added to thee length of the query\n",
    "df[\"length\"] = df[\"url\"].map(len)\n",
    "\n",
    "\n",
    "df.sample(10)\n"
   ]
  },
  {
   "cell_type": "code",
   "execution_count": 4,
   "metadata": {},
   "outputs": [
    {
     "data": {
      "image/png": "[encoded data removed]",
      "text/plain": [
       "<Figure size 432x288 with 1 Axes>"
      ]
     },
     "metadata": {
      "needs_background": "light"
     },
     "output_type": "display_data"
    },
    {
     "data": {
      "image/png": "[encoded data removed]",
      "text/plain": [
       "<Figure size 432x288 with 1 Axes>"
      ]
     },
     "metadata": {
      "needs_background": "light"
     },
     "output_type": "display_data"
    },
    {
     "data": {
      "image/png": "[encoded data removed]",
      "text/plain": [
       "<Figure size 432x288 with 1 Axes>"
      ]
     },
     "metadata": {
      "needs_background": "light"
     },
     "output_type": "display_data"
    },
    {
     "data": {
      "image/png": "[encoded data removed]",
      "text/plain": [
       "<Figure size 432x288 with 1 Axes>"
      ]
     },
     "metadata": {
      "needs_background": "light"
     },
     "output_type": "display_data"
    },
    {
     "data": {
      "image/png": "[encoded data removed]",
      "text/plain": [
       "<Figure size 432x288 with 1 Axes>"
      ]
     },
     "metadata": {
      "needs_background": "light"
     },
     "output_type": "display_data"
    }
   ],
   "source": [
    "dg = df[df.label == 'normal']\n",
    "db = df[df.label == 'malicious']\n",
    "plt.title(\"Script keyword occurrences\")\n",
    "plt.hist([dg['script'], db['script']], density=True, label=['normal', 'malicious'], color=['g', 'r'], bins=15, range=(0,25))\n",
    "plt.gca().yaxis.set_major_formatter(PercentFormatter(1))\n",
    "plt.legend()\n",
    "plt.show()\n",
    "\n",
    "plt.title(\"Shell keyword occurrences\")\n",
    "plt.hist([dg['shell'], db['shell']], density=True, label=['normal', 'malicious'], color=['g', 'r'], bins=15, range=(0,25))\n",
    "plt.gca().yaxis.set_major_formatter(PercentFormatter(1))\n",
    "plt.legend()\n",
    "plt.show()\n",
    "\n",
    "plt.title(\"SQL keyword occurrences\")\n",
    "plt.hist([dg['sql'], db['sql']], density=True, label=['normal', 'malicious'], color=['g', 'r'], bins=15, range=(0,10))\n",
    "plt.gca().yaxis.set_major_formatter(PercentFormatter(1))\n",
    "plt.legend()\n",
    "plt.show()\n",
    "\n",
    "plt.title(\"Query length\")\n",
    "plt.hist([dg['query_len'], db['query_len']], density=True, label=['normal', 'malicious'], color=['g', 'r'], bins=15, range=(0,140))\n",
    "plt.gca().yaxis.set_major_formatter(PercentFormatter(1))\n",
    "plt.legend()\n",
    "plt.show()\n",
    "\n",
    "plt.title(\"Length\")\n",
    "plt.hist([dg['length'], db['length']], density=True, label=['normal', 'malicious'], color=['g', 'r'], bins=15, range=(0,160))\n",
    "plt.gca().yaxis.set_major_formatter(PercentFormatter(1))\n",
    "plt.legend()\n",
    "plt.show()\n"
   ]
  },
  {
   "cell_type": "code",
   "execution_count": 5,
   "metadata": {},
   "outputs": [
    {
     "data": {
      "image/png": "[encoded data removed]",
      "text/plain": [
       "<Figure size 432x288 with 1 Axes>"
      ]
     },
     "metadata": {
      "needs_background": "light"
     },
     "output_type": "display_data"
    }
   ],
   "source": [
    "ds = df[[\"sql\", \"shell\", \"script\", \"length\"]]\n",
    "dsn = preprocessing.MinMaxScaler().fit_transform(ds)\n",
    "pca = PCA(2)\n",
    "dsp = pca.fit_transform(dsn)\n",
    "\n",
    "\n",
    "filtered_label2 = dsp[df[\"label\"] == \"normal\"]\n",
    "filtered_label =  dsp[df[\"label\"] == \"malicious\"]\n",
    "plt.title(\"Original Labels\")\n",
    "plt.scatter(filtered_label[:,0] , filtered_label[:,1] , color = 'red', alpha=0.5, label = \"malicious\")\n",
    "plt.scatter(filtered_label2[:,0] , filtered_label2[:,1] , color = 'green', alpha=0.5, label = \"normal\")\n",
    "\n",
    "plt.legend()\n",
    "plt.show()"
   ]
  },
  {
   "cell_type": "markdown",
   "metadata": {},
   "source": [
    "As the graphs show the distribution of this feature is different between legitimate and malicious URLs, but there is still a relevant superposition, so this feature is not enough to separate the two classes and not cover all kinds of attacks in the dataset.\n",
    "\n",
    "**Classification**\n",
    "\n",
    "The most common approach to counter these injection attacks is sanitization, so is not easy to find not ML-based classificators for comparison. This project implements a simple blacklist as a baseline for comparison. As base for the blacklist is used the collection of keywords of the features extraction phase. A more complex rule-based approach based on the same features may be possible. The Blacklist class is designed to mimic the Sklearn API for coherence.\n",
    "Then the ML algorithms studied during the lectures are applied and compared."
   ]
  },
  {
   "cell_type": "code",
   "execution_count": 6,
   "metadata": {},
   "outputs": [
    {
     "name": "stdout",
     "output_type": "stream",
     "text": [
      "\n",
      "Blacklist\n",
      "Precision: 1.000000\n",
      "Accuracy: 0.976558\n",
      "Recall: 0.307744\n",
      "F1-Score: 0.470649\n"
     ]
    },
    {
     "data": {
      "image/png": "[encoded data removed]",
      "text/plain": [
       "<Figure size 432x288 with 2 Axes>"
      ]
     },
     "metadata": {
      "needs_background": "light"
     },
     "output_type": "display_data"
    }
   ],
   "source": [
    "class Blacklist():\n",
    "    def __init__(self, blist):\n",
    "        self._blist = blist\n",
    "    \n",
    "    #returns 1 for malicious url else 0\n",
    "    def validate(self, url):\n",
    "        for s in self._blist:\n",
    "            if s in url:\n",
    "                return 1\n",
    "        return 0\n",
    "    \n",
    "    def fit(self,X,y):\n",
    "        X = [u.lower() for u in X]\n",
    "        badword = set()\n",
    "        goodword = set()\n",
    "\n",
    "        badurls = [u for u, l in zip(X,y) if l == 1]\n",
    "        goodurls = [u for u, l in zip(X,y) if l == 0]\n",
    "\n",
    "        #select the keywords in the blacklist present in the bad examples\n",
    "        for w in self._blist:\n",
    "            for u in badurls:\n",
    "                if w in u:\n",
    "                    badword.add(w)\n",
    "                    break\n",
    "        #select the keywords in the blacklist present in the good examples\n",
    "        for w in self._blist:\n",
    "            for u in goodurls:\n",
    "                if w in u:\n",
    "                    goodword.add(w)\n",
    "                    break\n",
    "        \n",
    "        #create the actual blacklist\n",
    "        self._blist = badword.difference(goodword)\n",
    "\n",
    "    \n",
    "    def predict(self, X):\n",
    "        X = [u.lower() for u in X]\n",
    "        return [self.validate(u) for u in X]\n",
    "\n",
    "blist = sql_list + script_list + shell_list\n",
    "\n",
    "\n",
    "X = df[ \"url\"]\n",
    "y = df[\"label\"].map(lambda x: 1 if x == \"malicious\" else 0)\n",
    "X_train, X_test, y_train, y_test = train_test_split(X, y, test_size=0.3)\n",
    "\n",
    "\n",
    "cls = Blacklist(blist)\n",
    "cls.fit(X_train, y_train)\n",
    "\n",
    "predicted = cls.predict(X_test)\n",
    "\n",
    "\n",
    "print(\"\\nBlacklist\")\n",
    "print(\"Precision: %f\" % metrics.precision_score(y_test, predicted))\n",
    "print(\"Accuracy: %f\" % metrics.accuracy_score(y_test, predicted))\n",
    "print(\"Recall: %f\" % metrics.recall_score(y_test, predicted))\n",
    "print(\"F1-Score: %f\" % metrics.f1_score(y_test, predicted))\n",
    "matrix = display_cm(metrics.confusion_matrix(y_test, predicted, normalize='true', labels=[1,0]), display_labels=['malicious', 'normal'])\n",
    "matrix.plot()\n",
    "matrix.ax_.set_title(\"Blacklist\")\n",
    "plt.show()"
   ]
  },
  {
   "cell_type": "code",
   "execution_count": 8,
   "metadata": {},
   "outputs": [
    {
     "name": "stderr",
     "output_type": "stream",
     "text": [
      "/usr/local/Caskroom/miniconda/base/lib/python3.9/site-packages/sklearn/neural_network/_multilayer_perceptron.py:692: ConvergenceWarning: Stochastic Optimizer: Maximum iterations (20) reached and the optimization hasn't converged yet.\n",
      "  warnings.warn(\n",
      "/usr/local/Caskroom/miniconda/base/lib/python3.9/site-packages/sklearn/neural_network/_multilayer_perceptron.py:692: ConvergenceWarning: Stochastic Optimizer: Maximum iterations (20) reached and the optimization hasn't converged yet.\n",
      "  warnings.warn(\n",
      "/usr/local/Caskroom/miniconda/base/lib/python3.9/site-packages/sklearn/neural_network/_multilayer_perceptron.py:692: ConvergenceWarning: Stochastic Optimizer: Maximum iterations (20) reached and the optimization hasn't converged yet.\n",
      "  warnings.warn(\n",
      "/usr/local/Caskroom/miniconda/base/lib/python3.9/site-packages/sklearn/neural_network/_multilayer_perceptron.py:692: ConvergenceWarning: Stochastic Optimizer: Maximum iterations (20) reached and the optimization hasn't converged yet.\n",
      "  warnings.warn(\n",
      "/usr/local/Caskroom/miniconda/base/lib/python3.9/site-packages/sklearn/neural_network/_multilayer_perceptron.py:692: ConvergenceWarning: Stochastic Optimizer: Maximum iterations (20) reached and the optimization hasn't converged yet.\n",
      "  warnings.warn(\n"
     ]
    },
    {
     "name": "stdout",
     "output_type": "stream",
     "text": [
      "Classifier, F1-Score\n",
      "Decision Tree 0.8889180702846298\n",
      "MLPClassifier 0.8666021517987783\n",
      "Naive Bayes 0.8153222792664151\n",
      "Logistic Regression 0.795718523990643\n",
      "SVM 0.7595566789524874\n"
     ]
    }
   ],
   "source": [
    "ds = df[[\"sql\", \"shell\", \"script\", \"length\", \"query_len\"]]\n",
    "lr = LogisticRegression()\n",
    "nb = MultinomialNB()\n",
    "svm = SVM()\n",
    "nn = MLPClassifier(max_iter=20) #the iterations are limited for performance reasons but the model accuracy not increase a lot with more iterations\n",
    "tree = DTC()\n",
    "\n",
    "classifiers = [(nb, 'Naive Bayes'), (lr, 'Logistic Regression'), (tree, 'Decision Tree'), (nn, 'MLPClassifier')] \n",
    "\n",
    "labels = df[\"label\"].map(lambda x: 1 if x == \"malicious\" else 0)\n",
    "\n",
    "rus = RandomUnderSampler(sampling_strategy=0.2) #undersampling to reduce unbalance\n",
    "X, y = rus.fit_resample(ds, labels)\n",
    "result = []\n",
    "\n",
    "for cls, name in classifiers:\n",
    "    skfold=StratifiedKFold(random_state=42, shuffle=True)\n",
    "    scores=cross_val_score(cls,X,y,cv=skfold, scoring='f1', n_jobs=4)\n",
    "    result.append((name, np.mean(scores)))\n",
    "\n",
    "svm = SVM()\n",
    "classifiers = [(svm, 'SVM')] \n",
    "\n",
    "Xn = preprocessing.MinMaxScaler().fit_transform(X) # the dataset is normalized for SVM\n",
    "\n",
    "for cls, name in classifiers:\n",
    "    skfold=StratifiedKFold(random_state=42, shuffle=True)\n",
    "    scores=cross_val_score(cls,Xn,y,cv=skfold, scoring='f1', n_jobs=4)\n",
    "    result.append((name, np.mean(scores)))\n",
    "\n",
    "result.sort(reverse=True, key=(lambda x: x[1]))\n",
    "print(\"Classifier, F1-Score\")\n",
    "for r in result:\n",
    "    print(f\"{r[0]} {r[1]}\")"
   ]
  },
  {
   "cell_type": "code",
   "execution_count": 41,
   "metadata": {},
   "outputs": [
    {
     "name": "stdout",
     "output_type": "stream",
     "text": [
      "Precision: 0.740570\n",
      "Accuracy: 0.984779\n",
      "Recall: 0.840952\n",
      "F1-Score: 0.787575\n"
     ]
    },
    {
     "data": {
      "image/png": "[encoded data removed]",
      "text/plain": [
       "<Figure size 432x288 with 2 Axes>"
      ]
     },
     "metadata": {
      "needs_background": "light"
     },
     "output_type": "display_data"
    }
   ],
   "source": [
    "tree = DTC()\n",
    "X_train, X_test, y_train, y_test = train_test_split(ds, labels, test_size=0.3)\n",
    "rus = RandomUnderSampler(sampling_strategy=0.2) #undersampling to reduce unbalance\n",
    "X_train, y_train = rus.fit_resample(X_train, y_train)\n",
    "tree = tree.fit(X_train, y_train)\n",
    "predicted = tree.predict(X_test)\n",
    "print(\"Precision: %f\" % metrics.precision_score(y_test, predicted))\n",
    "print(\"Accuracy: %f\" % metrics.accuracy_score(y_test, predicted))\n",
    "print(\"Recall: %f\" % metrics.recall_score(y_test, predicted))\n",
    "print(\"F1-Score: %f\" % metrics.f1_score(y_test, predicted))\n",
    "matrix = metrics.confusion_matrix(y_test, predicted, normalize='true', labels=[0,1])\n",
    "matrix = display_cm(matrix, display_labels=['normal', 'malicious'])\n",
    "matrix.plot()\n",
    "matrix.ax_.set_title(\"Decision Tree 1\")\n",
    "plt.show()\n",
    "\n"
   ]
  },
  {
   "cell_type": "code",
   "execution_count": 17,
   "metadata": {},
   "outputs": [
    {
     "data": {
      "image/png": "[encoded data removed]",
      "text/plain": [
       "<Figure size 432x288 with 1 Axes>"
      ]
     },
     "metadata": {
      "needs_background": "light"
     },
     "output_type": "display_data"
    }
   ],
   "source": [
    "predicted = tree.predict(ds)\n",
    "\n",
    "dp = pandas.DataFrame()\n",
    "dp['label'] = predicted\n",
    "\n",
    "filtered_label2 = dsp[dp[\"label\"] == 0]\n",
    "filtered_label =  dsp[dp[\"label\"] == 1]\n",
    "\n",
    "plt.title(\"Decision Tree Labels\")\n",
    "plt.scatter(filtered_label[:,0] , filtered_label[:,1] , color = 'red', alpha=0.5, label = \"malicious\")\n",
    "plt.scatter(filtered_label2[:,0] , filtered_label2[:,1] , color = 'green', alpha=0.5, label = \"normal\")\n",
    "plt.legend()\n",
    "plt.show()"
   ]
  },
  {
   "cell_type": "markdown",
   "metadata": {},
   "source": [
    "The Decision Tree to perform relatively well, as expected this feature characterizes well some kinds of attacks, but not enough to cover all attacks in the dataset. Probably this feature can be the base for a rule set, it can be extracted from the tree."
   ]
  },
  {
   "cell_type": "code",
   "execution_count": 43,
   "metadata": {},
   "outputs": [
    {
     "name": "stdout",
     "output_type": "stream",
     "text": [
      "Decision Tree features importance\n",
      "shell: 71.03%\n",
      "query_len: 18.63%\n",
      "length: 5.41%\n",
      "script: 3.14%\n",
      "sql: 1.78%\n",
      "\n",
      "Decision Tree rules (truncated depth 3)\n",
      "|--- shell <= 1.50\n",
      "|   |--- query_len <= 1.50\n",
      "|   |   |--- length <= 8.50\n",
      "|   |   |   |--- class: 1\n",
      "|   |   |--- length >  8.50\n",
      "|   |   |   |--- class: 0\n",
      "|   |--- query_len >  1.50\n",
      "|   |   |--- query_len <= 35.50\n",
      "|   |   |   |--- class: 1\n",
      "|   |   |--- query_len >  35.50\n",
      "|   |   |   |--- class: 0\n",
      "|--- shell >  1.50\n",
      "|   |--- shell <= 3.50\n",
      "|   |   |--- sql <= 0.50\n",
      "|   |   |   |--- class: 1\n",
      "|   |   |--- sql >  0.50\n",
      "|   |   |   |--- class: 1\n",
      "|   |--- shell >  3.50\n",
      "|   |   |--- query_len <= 56.50\n",
      "|   |   |   |--- class: 1\n",
      "|   |   |--- query_len >  56.50\n",
      "|   |   |   |--- class: 1\n",
      "\n"
     ]
    }
   ],
   "source": [
    "features_name = list(ds.columns)\n",
    "importance = tree.feature_importances_\n",
    "importance = [(i,n) for i, n in zip(importance, features_name)]\n",
    "importance.sort(reverse=True, key=(lambda x: x[0]))\n",
    "print(\"Decision Tree features importance\")\n",
    "for i, n in importance:\n",
    "    print(f\"{n}: {round(i*100, 2)}%\")\n",
    "\n",
    "small_tree = DTC(max_depth=3) #small tree for better representation\n",
    "small_tree = small_tree.fit(X_train, y_train)\n",
    "rules = export_text(small_tree, feature_names=features_name, max_depth=3)\n",
    "\n",
    "print(\"\\nDecision Tree rules (truncated depth 3)\")\n",
    "print(rules)"
   ]
  },
  {
   "cell_type": "markdown",
   "metadata": {},
   "source": [
    "**Classification - second approach**\n",
    "\n",
    "In the second approach presented, instead of extracting features based on domain knowledge the URLs are vectorized using TfidfVectorizer. For performance reasons, the set of the tokens is reduced to the bests 800, discarding the most frequent 10%, which are likely to be in common between normal and malicious examples.\n",
    "The same studied algorithms are compared. The Logistic Regression is set with a higher number of iterations to ensure convergence, the MLPClassifier with a limited number of epochs, and the Decision Tree with a limited depth for performance reasons, but this has no significant impact on the models' accuracy."
   ]
  },
  {
   "cell_type": "code",
   "execution_count": 22,
   "metadata": {},
   "outputs": [],
   "source": [
    "y = df[\"label\"].map(lambda x: 1 if x == \"malicious\" else 0)\n",
    "X = df['url']\n",
    "vectorizer = TfidfVectorizer(min_df = 0.0, analyzer=\"char\", sublinear_tf=True, ngram_range=(1,3), max_df=0.9, max_features=800) \n",
    "X = vectorizer.fit_transform(X)\n"
   ]
  },
  {
   "cell_type": "code",
   "execution_count": 23,
   "metadata": {},
   "outputs": [
    {
     "name": "stderr",
     "output_type": "stream",
     "text": [
      "/usr/local/Caskroom/miniconda/base/lib/python3.9/site-packages/sklearn/neural_network/_multilayer_perceptron.py:692: ConvergenceWarning: Stochastic Optimizer: Maximum iterations (4) reached and the optimization hasn't converged yet.\n",
      "  warnings.warn(\n",
      "/usr/local/Caskroom/miniconda/base/lib/python3.9/site-packages/sklearn/neural_network/_multilayer_perceptron.py:692: ConvergenceWarning: Stochastic Optimizer: Maximum iterations (4) reached and the optimization hasn't converged yet.\n",
      "  warnings.warn(\n",
      "/usr/local/Caskroom/miniconda/base/lib/python3.9/site-packages/sklearn/neural_network/_multilayer_perceptron.py:692: ConvergenceWarning: Stochastic Optimizer: Maximum iterations (4) reached and the optimization hasn't converged yet.\n",
      "  warnings.warn(\n",
      "/usr/local/Caskroom/miniconda/base/lib/python3.9/site-packages/sklearn/neural_network/_multilayer_perceptron.py:692: ConvergenceWarning: Stochastic Optimizer: Maximum iterations (4) reached and the optimization hasn't converged yet.\n",
      "  warnings.warn(\n",
      "/usr/local/Caskroom/miniconda/base/lib/python3.9/site-packages/sklearn/neural_network/_multilayer_perceptron.py:692: ConvergenceWarning: Stochastic Optimizer: Maximum iterations (4) reached and the optimization hasn't converged yet.\n",
      "  warnings.warn(\n"
     ]
    },
    {
     "name": "stdout",
     "output_type": "stream",
     "text": [
      "Classifier, F1-Score\n",
      "MLPClassifier 0.9932574988835847\n",
      "SVM 0.9915624912917436\n",
      "Logistic Regression 0.9837498952346527\n",
      "Decision Tree 0.9629284051408191\n",
      "Naive Bayes 0.8908195543126449\n"
     ]
    }
   ],
   "source": [
    "\n",
    "lr = LogisticRegression(max_iter=1500)\n",
    "nb = MultinomialNB()\n",
    "svm = SVM()\n",
    "nn = MLPClassifier(max_iter=4)\n",
    "tree = DTC(max_depth=10)\n",
    "\n",
    "classifiers = [(nb, 'Naive Bayes'), (lr, 'Logistic Regression'), (tree, 'Decision Tree'), (svm, 'SVM'), (nn, 'MLPClassifier')]\n",
    "\n",
    "rus = RandomUnderSampler(sampling_strategy=0.2) #undersampling to reduce unbalance\n",
    "X, y = rus.fit_resample(X, y)\n",
    "\n",
    "result = []\n",
    "\n",
    "for cls, name in classifiers:\n",
    "    skfold=StratifiedKFold(random_state=42, shuffle=True)\n",
    "    scores=cross_val_score(cls,X,y,cv=skfold, scoring='f1', n_jobs=4)\n",
    "    result.append((name, np.mean(scores)))\n",
    "\n",
    "result.sort(reverse=True, key=(lambda x: x[1]))\n",
    "print(\"Classifier, F1-Score\")\n",
    "for r in result:\n",
    "    print(f\"{r[0]} {r[1]}\")\n"
   ]
  },
  {
   "cell_type": "markdown",
   "metadata": {},
   "source": [
    "All the classifiers except for the Naive Bayes have a very high score value. The MLPClassifier has a similar score to SVM but it is significantly heavier in terms of computation. Even the Decision tree is slower than SVM and Logistic Regression but can be analyzed to learn about feature importance. So Logistic Regression and SVM are compared, and the best classifier is analyzed. The comparison is performed on the full set of tokens except for the most frequent 1%."
   ]
  },
  {
   "cell_type": "code",
   "execution_count": 44,
   "metadata": {},
   "outputs": [],
   "source": [
    "y = df[\"label\"].map(lambda x: 1 if x == \"malicious\" else 0)\n",
    "X = df['url']\n",
    "vectorizer = TfidfVectorizer(min_df = 0.0, analyzer=\"char\", sublinear_tf=True, ngram_range=(1,3), max_df=0.99) \n",
    "X = vectorizer.fit_transform(X)"
   ]
  },
  {
   "cell_type": "code",
   "execution_count": 28,
   "metadata": {},
   "outputs": [
    {
     "name": "stdout",
     "output_type": "stream",
     "text": [
      "pvalue: 0.001953125\n",
      "Classifier, F1-Score\n",
      "SVM 0.9982454416068223\n",
      "Logistic Regression 0.9907183059097721\n"
     ]
    }
   ],
   "source": [
    "lr = LogisticRegression(max_iter=1500)\n",
    "svm = SVM()\n",
    "\n",
    "\n",
    "classifiers = [(lr, 'Logistic Regression'), (svm, 'SVM')]\n",
    "\n",
    "rus = RandomUnderSampler(sampling_strategy=0.2) #undersampling to reduce unbalance\n",
    "X_train, y_train = rus.fit_resample(X, y)\n",
    "\n",
    "result = []\n",
    "\n",
    "for cls, name in classifiers:\n",
    "    skfold=StratifiedKFold(random_state=42, shuffle=True, n_splits=10)\n",
    "    scores=cross_val_score(cls,X_train,y_train,cv=skfold, scoring='f1', n_jobs=4)\n",
    "    result.append((name, scores))\n",
    "\n",
    "_, pvalue = wilcoxon(result[0][1], result[1][1])\n",
    "print(f\"pvalue: {pvalue}\")\n",
    "result = [(n, np.mean(s)) for n,s in result]\n",
    "result.sort(reverse=True, key=(lambda x: x[1]))\n",
    "print(\"Classifier, F1-Score\")\n",
    "for r in result:\n",
    "    print(f\"{r[0]} {r[1]}\")"
   ]
  },
  {
   "cell_type": "code",
   "execution_count": 47,
   "metadata": {},
   "outputs": [
    {
     "name": "stdout",
     "output_type": "stream",
     "text": [
      "Precision: 0.993799\n",
      "Accuracy: 0.999659\n",
      "Recall: 0.996181\n",
      "F1-Score: 0.994989\n"
     ]
    },
    {
     "data": {
      "image/png": "[encoded data removed]",
      "text/plain": [
       "<Figure size 432x288 with 2 Axes>"
      ]
     },
     "metadata": {
      "needs_background": "light"
     },
     "output_type": "display_data"
    }
   ],
   "source": [
    "cls = SVM()\n",
    "X_train, X_test, y_train, y_test = train_test_split(X, y, test_size=0.3, random_state=42)\n",
    "rus = RandomUnderSampler(sampling_strategy=0.2, random_state=42)\n",
    "X_train, y_train = rus.fit_resample(X_train, y_train)\n",
    "cls = cls.fit(X_train, y_train)\n",
    "predicted = cls.predict(X_test)\n",
    "\n",
    "print(\"Precision: %f\" % metrics.precision_score(y_test, predicted))\n",
    "print(\"Accuracy: %f\" % metrics.accuracy_score(y_test, predicted))\n",
    "print(\"Recall: %f\" % metrics.recall_score(y_test, predicted))\n",
    "print(\"F1-Score: %f\" % metrics.f1_score(y_test, predicted))\n",
    "matrix = metrics.confusion_matrix(y_test, predicted, normalize='true', labels=[0,1])\n",
    "matrix = display_cm(matrix, display_labels=['normal', 'malicious'])\n",
    "matrix.plot()\n",
    "matrix.ax_.set_title(\"SVM\")\n",
    "plt.show()"
   ]
  },
  {
   "cell_type": "markdown",
   "metadata": {},
   "source": [
    "SVM is the most accurate and fastest classifier. The undersampling ratio 0.2 is a good trade off between the correct prediction on the two classes.\n",
    "The Decision tree can be used to know the most important n-gram in the classification."
   ]
  },
  {
   "cell_type": "code",
   "execution_count": 46,
   "metadata": {},
   "outputs": [
    {
     "name": "stdout",
     "output_type": "stream",
     "text": [
      "Precision: 0.991100\n",
      "Accuracy: 0.999158\n",
      "Recall: 0.984050\n",
      "F1-Score: 0.987562\n"
     ]
    },
    {
     "data": {
      "image/png": "[encoded data removed]",
      "text/plain": [
       "<Figure size 432x288 with 2 Axes>"
      ]
     },
     "metadata": {
      "needs_background": "light"
     },
     "output_type": "display_data"
    },
    {
     "name": "stdout",
     "output_type": "stream",
     "text": [
      "Decision Tree features importance\n",
      "'=': 43.17%\n",
      "')': 13.64%\n",
      "'=ht': 10.25%\n",
      "'.ex': 6.64%\n",
      "'<': 5.05%\n",
      "'..': 2.87%\n",
      "'pts': 2.72%\n",
      "\"'\": 1.96%\n",
      "'ipt': 1.88%\n",
      "'fiu': 1.32%\n"
     ]
    }
   ],
   "source": [
    "tree = DTC(max_depth=20)\n",
    "tree = tree.fit(X_train, y_train)\n",
    "predicted = tree.predict(X_test)\n",
    "print(\"Precision: %f\" % metrics.precision_score(y_test, predicted))\n",
    "print(\"Accuracy: %f\" % metrics.accuracy_score(y_test, predicted))\n",
    "print(\"Recall: %f\" % metrics.recall_score(y_test, predicted))\n",
    "print(\"F1-Score: %f\" % metrics.f1_score(y_test, predicted))\n",
    "matrix = metrics.confusion_matrix(y_test, predicted, normalize='true', labels=[0,1])\n",
    "matrix = display_cm(matrix, display_labels=['normal', 'malicious'])\n",
    "matrix.plot()\n",
    "matrix.ax_.set_title(\"Decision Tree 2\")\n",
    "plt.show()\n",
    "\n",
    "importance = tree.feature_importances_\n",
    "features_name = vectorizer.get_feature_names_out()\n",
    "importance = [(i,n) for i, n in zip(importance, features_name)]\n",
    "importance.sort(reverse=True, key=(lambda x: x[0]))\n",
    "importance = importance[0:10]\n",
    "   \n",
    "\n",
    "\n",
    "print(\"Decision Tree features importance\")\n",
    "for i,n in importance:\n",
    "    print(f\"{repr(n)}: {round(i*100, 2)}%\")"
   ]
  },
  {
   "cell_type": "markdown",
   "metadata": {},
   "source": [
    "The Decision Tree returns as most important feature: \n",
    "- '=', ')' and '>' used in various type of injection attacks\n",
    "- '.ex' part of the string \".exe\"\n",
    "- '=ht': part of the string '=http', used in HTTP header injection\n",
    "- '..' used in path traversal and Shell Injection\n",
    "- 'pts': part of the string '/scripts', related with PHP-based attacks\n",
    "- \"'\" used in SQL Injection\n",
    "- 'ipt': part of the string 'script' used in JSInjection\n",
    "\n",
    "So this feature can be linked to common attacks.\n",
    "\n",
    "**Novelty Detection**\n",
    "\n",
    "The last approach uses only normal examples to train a novelty detection model. This approach is reasonable in the context of web server protection because is not easy to have examples of attacks. Unfortunately, this approach does not seem to have satisfying results.\n"
   ]
  },
  {
   "cell_type": "code",
   "execution_count": 36,
   "metadata": {},
   "outputs": [
    {
     "name": "stdout",
     "output_type": "stream",
     "text": [
      "Precision: 0.769114\n",
      "Accuracy: 0.491941\n",
      "Recall: 0.575383\n",
      "F1-Score: 0.658291\n"
     ]
    },
    {
     "data": {
      "image/png": "[encoded data removed]",
      "text/plain": [
       "<Figure size 432x288 with 2 Axes>"
      ]
     },
     "metadata": {
      "needs_background": "light"
     },
     "output_type": "display_data"
    }
   ],
   "source": [
    "ds = df[[\"sql\", \"query_len\", \"shell\", \"script\", \"length\"]]\n",
    "ds = preprocessing.MinMaxScaler().fit_transform(ds)\n",
    "normal = ds[df['label'] == \"normal\"]\n",
    "normal_len = len(normal)\n",
    "yn = [1 for _ in range(normal_len)]\n",
    "anomalous = ds[df['label'] == \"malicious\"]\n",
    "anomalous_len = len(anomalous)\n",
    "ya = [-1 for _ in range(anomalous_len)]\n",
    "\n",
    "X_train, X_test, y_train, y_test = train_test_split(normal, yn, test_size=0.2, random_state=42)\n",
    "X_test = np.concatenate((X_test, anomalous))\n",
    "y_test += ya\n",
    "\n",
    "cls = OSVM()\n",
    "\n",
    "cls = cls.fit(X_train)\n",
    "predicted = cls.predict(X_test)\n",
    "\n",
    "print(\"Precision: %f\" % metrics.precision_score(y_test, predicted))\n",
    "print(\"Accuracy: %f\" % metrics.accuracy_score(y_test, predicted))\n",
    "print(\"Recall: %f\" % metrics.recall_score(y_test, predicted))\n",
    "print(\"F1-Score: %f\" % metrics.f1_score(y_test, predicted))\n",
    "matrix = display_cm(metrics.confusion_matrix(y_test, predicted, normalize='true'), display_labels=['anomaly', 'normal'])\n",
    "matrix.plot()\n",
    "matrix.ax_.set_title(\"Online SVM\")\n",
    "plt.show()"
   ]
  }
 ],
 "metadata": {
  "interpreter": {
   "hash": "c30f2af5f468e7f5b45bcc30fca5f4886c90d54777aed916ed5f6294dfb24bf2"
  },
  "kernelspec": {
   "display_name": "Python 3.9.7 ('base')",
   "language": "python",
   "name": "python3"
  },
  "language_info": {
   "codemirror_mode": {
    "name": "ipython",
    "version": 3
   },
   "file_extension": ".py",
   "mimetype": "text/x-python",
   "name": "python",
   "nbconvert_exporter": "python",
   "pygments_lexer": "ipython3",
   "version": "3.9.7"
  }
 },
 "nbformat": 4,
 "nbformat_minor": 2
}
